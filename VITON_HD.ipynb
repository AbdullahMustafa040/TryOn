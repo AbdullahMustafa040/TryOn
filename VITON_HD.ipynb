{
  "nbformat": 4,
  "nbformat_minor": 0,
  "metadata": {
    "colab": {
      "provenance": [],
      "gpuType": "T4"
    },
    "kernelspec": {
      "name": "python3",
      "display_name": "Python 3"
    },
    "language_info": {
      "name": "python"
    },
    "accelerator": "GPU"
  },
  "cells": [
    {
      "cell_type": "code",
      "execution_count": null,
      "metadata": {
        "colab": {
          "base_uri": "https://localhost:8080/"
        },
        "id": "LnE4fSoQwbyH",
        "outputId": "87df7492-25cd-4518-dd3e-a054cccb63db"
      },
      "outputs": [
        {
          "output_type": "stream",
          "name": "stdout",
          "text": [
            "Cloning into 'VITON-HD'...\n",
            "remote: Enumerating objects: 43, done.\u001b[K\n",
            "remote: Counting objects: 100% (43/43), done.\u001b[K\n",
            "remote: Compressing objects: 100% (25/25), done.\u001b[K\n",
            "remote: Total 43 (delta 15), reused 38 (delta 15), pack-reused 0\u001b[K\n",
            "Unpacking objects: 100% (43/43), 5.02 MiB | 9.29 MiB/s, done.\n"
          ]
        }
      ],
      "source": [
        "!git clone https://github.com/shadow2496/VITON-HD.git\n",
        "!cd ./VITON-HD/"
      ]
    },
    {
      "cell_type": "code",
      "source": [
        "%cd ./VITON-HD/"
      ],
      "metadata": {
        "colab": {
          "base_uri": "https://localhost:8080/"
        },
        "id": "78e-au2b08iu",
        "outputId": "1799ed52-e7c7-4c3e-b22d-17867889774b"
      },
      "execution_count": null,
      "outputs": [
        {
          "output_type": "stream",
          "name": "stdout",
          "text": [
            "/content/VITON-HD\n"
          ]
        }
      ]
    },
    {
      "cell_type": "code",
      "source": [
        "!ls"
      ],
      "metadata": {
        "colab": {
          "base_uri": "https://localhost:8080/"
        },
        "id": "9iVNp2Xv03Nj",
        "outputId": "631df694-df69-4503-f268-ad419be4f12d"
      },
      "execution_count": null,
      "outputs": [
        {
          "output_type": "stream",
          "name": "stdout",
          "text": [
            "assets\t     datasets\t  LICENSE      README.md  utils.py\n",
            "checkpoints  datasets.py  networks.py  test.py\n"
          ]
        }
      ]
    },
    {
      "cell_type": "code",
      "source": [
        "!gdown 1ZA2C8yMOprwc0TV4hvrt0X-ljZugrClq"
      ],
      "metadata": {
        "colab": {
          "base_uri": "https://localhost:8080/"
        },
        "id": "2W9nSDuL1Af9",
        "outputId": "3f1d8786-25bf-490c-880f-3e7a19c107d1"
      },
      "execution_count": null,
      "outputs": [
        {
          "output_type": "stream",
          "name": "stdout",
          "text": [
            "Downloading...\n",
            "From: https://drive.google.com/uc?id=1ZA2C8yMOprwc0TV4hvrt0X-ljZugrClq\n",
            "To: /content/VITON-HD/test.zip\n",
            "\r  0% 0.00/2.69M [00:00<?, ?B/s]\r100% 2.69M/2.69M [00:00<00:00, 220MB/s]\n"
          ]
        }
      ]
    },
    {
      "cell_type": "code",
      "source": [
        "!unzip /content/VITON-HD/datasets/test.zip"
      ],
      "metadata": {
        "id": "FDGcR1n21Z-I"
      },
      "execution_count": null,
      "outputs": []
    },
    {
      "cell_type": "code",
      "source": [
        "# !conda create -y -n [ENV] python=3.8\n",
        "# !conda activate [ENV]\n",
        "# !conda install -y pytorch=[>=1.6.0] torchvision cudatoolkit=[>=9.2] -c pytorch\n",
        "# !pip install opencv-python torchgeometry"
      ],
      "metadata": {
        "id": "BdbLC2UUxfIO"
      },
      "execution_count": null,
      "outputs": []
    },
    {
      "cell_type": "code",
      "source": [
        "!pip install -q condacolab\n",
        "import condacolab\n",
        "condacolab.install()\n",
        "!conda create -y -n myenv python=3.8\n",
        "!conda activate myenv\n"
      ],
      "metadata": {
        "id": "HQRRv16cxoHS"
      },
      "execution_count": null,
      "outputs": []
    },
    {
      "cell_type": "code",
      "source": [
        "!python3.8 -V"
      ],
      "metadata": {
        "colab": {
          "base_uri": "https://localhost:8080/"
        },
        "id": "lBmJHSvYy_5u",
        "outputId": "96f67729-bca4-4428-d674-97d322c7d103"
      },
      "execution_count": null,
      "outputs": [
        {
          "output_type": "stream",
          "name": "stdout",
          "text": [
            "Python 3.8.10\n"
          ]
        }
      ]
    },
    {
      "cell_type": "code",
      "source": [
        "!curl https://bootstrap.pypa.io/get-pip.py -o get-pip.py\n",
        "!python3.8 get-pip.py\n"
      ],
      "metadata": {
        "id": "XP5IzjXNz7gM",
        "colab": {
          "base_uri": "https://localhost:8080/"
        },
        "outputId": "f0bba713-d895-4843-8cbf-dcd2608f9406"
      },
      "execution_count": null,
      "outputs": [
        {
          "output_type": "stream",
          "name": "stdout",
          "text": [
            "curl: /usr/local/lib/libcurl.so.4: no version information available (required by curl)\n",
            "  % Total    % Received % Xferd  Average Speed   Time    Time     Time  Current\n",
            "                                 Dload  Upload   Total   Spent    Left  Speed\n",
            "\r  0     0    0     0    0     0      0      0 --:--:-- --:--:-- --:--:--     0\r100 2518k  100 2518k    0     0  27.4M      0 --:--:-- --:--:-- --:--:-- 27.6M\n",
            "Looking in indexes: https://pypi.org/simple, https://us-python.pkg.dev/colab-wheels/public/simple/\n",
            "Collecting pip\n",
            "  Downloading pip-23.1.2-py3-none-any.whl (2.1 MB)\n",
            "\u001b[2K     \u001b[90m━━━━━━━━━━━━━━━━━━━━━━━━━━━━━━━━━━━━━━━━\u001b[0m \u001b[32m2.1/2.1 MB\u001b[0m \u001b[31m38.9 MB/s\u001b[0m eta \u001b[36m0:00:00\u001b[0m\n",
            "\u001b[?25hCollecting setuptools\n",
            "  Downloading setuptools-67.8.0-py3-none-any.whl (1.1 MB)\n",
            "\u001b[2K     \u001b[90m━━━━━━━━━━━━━━━━━━━━━━━━━━━━━━━━━━━━━━━━\u001b[0m \u001b[32m1.1/1.1 MB\u001b[0m \u001b[31m82.9 MB/s\u001b[0m eta \u001b[36m0:00:00\u001b[0m\n",
            "\u001b[?25hCollecting wheel\n",
            "  Downloading wheel-0.40.0-py3-none-any.whl (64 kB)\n",
            "\u001b[2K     \u001b[90m━━━━━━━━━━━━━━━━━━━━━━━━━━━━━━━━━━━━━━━━\u001b[0m \u001b[32m64.5/64.5 kB\u001b[0m \u001b[31m9.6 MB/s\u001b[0m eta \u001b[36m0:00:00\u001b[0m\n",
            "\u001b[?25hInstalling collected packages: wheel, setuptools, pip\n",
            "Successfully installed pip-23.1.2 setuptools-67.8.0 wheel-0.40.0\n",
            "\u001b[33mWARNING: Running pip as the 'root' user can result in broken permissions and conflicting behaviour with the system package manager. It is recommended to use a virtual environment instead: https://pip.pypa.io/warnings/venv\u001b[0m\u001b[33m\n",
            "\u001b[0m"
          ]
        }
      ]
    },
    {
      "cell_type": "code",
      "source": [
        "!python3.8 -m pip install torch torchvision\n",
        "!python3.8 -m pip install opencv-python torchgeometry"
      ],
      "metadata": {
        "id": "BLfYUuXLySvm"
      },
      "execution_count": null,
      "outputs": []
    },
    {
      "cell_type": "code",
      "source": [
        "!gdown 1ncEHn_6liOot8sgt3A2DOFJBffvx8tW8"
      ],
      "metadata": {
        "colab": {
          "base_uri": "https://localhost:8080/"
        },
        "id": "xEGTjWiszi8R",
        "outputId": "a1b621e4-a590-46bc-8c98-0e96bddbd87f"
      },
      "execution_count": null,
      "outputs": [
        {
          "output_type": "stream",
          "name": "stdout",
          "text": [
            "Downloading...\n",
            "From: https://drive.google.com/uc?id=1ncEHn_6liOot8sgt3A2DOFJBffvx8tW8\n",
            "To: /content/VITON-HD/test_pairs.txt\n",
            "\r  0% 0.00/156 [00:00<?, ?B/s]\r100% 156/156 [00:00<00:00, 1.02MB/s]\n"
          ]
        }
      ]
    },
    {
      "cell_type": "code",
      "source": [
        "!gdown 1RM4OthSM6V4r7kWCu8SbPIPY14Oz8B2u\n",
        "!gdown 1MBHBddaAs7sy8W40jzLmNL83AUh035F1\n",
        "!gdown 17U1sooR3mVIbe8a7rZuFIF3kukPchHfZ"
      ],
      "metadata": {
        "colab": {
          "base_uri": "https://localhost:8080/"
        },
        "id": "_lF-Zgk-2My1",
        "outputId": "7e7d2d11-fcae-46fe-fe24-c5a2918a34a5"
      },
      "execution_count": null,
      "outputs": [
        {
          "output_type": "stream",
          "name": "stdout",
          "text": [
            "Downloading...\n",
            "From: https://drive.google.com/uc?id=1RM4OthSM6V4r7kWCu8SbPIPY14Oz8B2u\n",
            "To: /content/VITON-HD/alias_final.pth\n",
            "100% 402M/402M [00:06<00:00, 60.6MB/s]\n",
            "Downloading...\n",
            "From: https://drive.google.com/uc?id=1MBHBddaAs7sy8W40jzLmNL83AUh035F1\n",
            "To: /content/VITON-HD/gmm_final.pth\n",
            "100% 76.2M/76.2M [00:01<00:00, 69.3MB/s]\n",
            "Downloading...\n",
            "From: https://drive.google.com/uc?id=17U1sooR3mVIbe8a7rZuFIF3kukPchHfZ\n",
            "To: /content/VITON-HD/seg_final.pth\n",
            "100% 138M/138M [00:01<00:00, 126MB/s]\n"
          ]
        }
      ]
    },
    {
      "cell_type": "code",
      "source": [
        "!python3.8 test.py --name save_dir"
      ],
      "metadata": {
        "colab": {
          "base_uri": "https://localhost:8080/"
        },
        "id": "VfK_C24p2g01",
        "outputId": "bfa3014d-8b1b-4a3c-e473-455d1d403366"
      },
      "execution_count": null,
      "outputs": [
        {
          "output_type": "stream",
          "name": "stdout",
          "text": [
            "Namespace(alias_checkpoint='alias_final.pth', batch_size=1, checkpoint_dir='./checkpoints/', dataset_dir='./datasets/', dataset_list='test_pairs.txt', dataset_mode='test', display_freq=1, gmm_checkpoint='gmm_final.pth', grid_size=5, init_type='xavier', init_variance=0.02, load_height=1024, load_width=768, name='save_dir', ngf=64, norm_G='spectralaliasinstance', num_upsampling_layers='most', save_dir='./results/', seg_checkpoint='seg_final.pth', semantic_nc=13, shuffle=False, workers=1)\n",
            "Network [SegGenerator] was created. Total number of parameters: 34.5 million. To see the architecture, do print(network).\n",
            "Network [ALIASGenerator] was created. Total number of parameters: 100.5 million. To see the architecture, do print(network).\n",
            "/usr/local/lib/python3.8/dist-packages/torch/nn/functional.py:4236: UserWarning: Default grid_sample and affine_grid behavior has changed to align_corners=False since 1.3.0. Please specify align_corners=True if the old behavior is desired. See the documentation of grid_sample for details.\n",
            "  warnings.warn(\n",
            "step: 1\n",
            "step: 2\n",
            "step: 3\n",
            "step: 4\n",
            "step: 5\n",
            "step: 6\n"
          ]
        }
      ]
    },
    {
      "cell_type": "code",
      "source": [
        "import cv2\n",
        "import numpy as np\n",
        "\n",
        "def mask_cloth(cloth_image_path):\n",
        "    # Load the cloth image\n",
        "    cloth_image = cv2.imread(cloth_image_path)\n",
        "\n",
        "    # Convert the image to grayscale\n",
        "    gray_image = cv2.cvtColor(cloth_image, cv2.COLOR_BGR2GRAY)\n",
        "\n",
        "    # Threshold the image to create a binary mask\n",
        "    _, binary_mask = cv2.threshold(gray_image, 0, 255, cv2.THRESH_BINARY + cv2.THRESH_OTSU)\n",
        "\n",
        "    # Apply the mask to the original image\n",
        "    masked_cloth = cv2.bitwise_and(cloth_image, cloth_image, mask=binary_mask)\n",
        "\n",
        "    return masked_cloth\n"
      ],
      "metadata": {
        "id": "HT5U6-nF3NCq"
      },
      "execution_count": null,
      "outputs": []
    },
    {
      "cell_type": "code",
      "source": [
        "masked_cloth = mask_cloth(\"/content/VITON-HD/datasets/test/cloth/Dress 2.jpg\")\n",
        "cv2.imwrite(\"masked_cloth.jpg\", masked_cloth)\n",
        "mask = cv2.imread(\"masked_cloth.jpg\", 0)\n"
      ],
      "metadata": {
        "id": "Nvr1fJhL-hPv"
      },
      "execution_count": null,
      "outputs": []
    },
    {
      "cell_type": "code",
      "source": [],
      "metadata": {
        "id": "ZgTO2K_H-7YM"
      },
      "execution_count": null,
      "outputs": []
    }
  ]
}